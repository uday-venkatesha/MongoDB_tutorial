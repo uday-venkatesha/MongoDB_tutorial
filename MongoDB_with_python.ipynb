{
 "cells": [
  {
   "cell_type": "code",
   "execution_count": 1,
   "id": "1c328f70-7f03-456d-b27d-64c074ebce48",
   "metadata": {},
   "outputs": [],
   "source": [
    "import pymongo "
   ]
  },
  {
   "cell_type": "code",
   "execution_count": 2,
   "id": "0d4b1a86-ca8e-4445-959a-225bbc9d6c1e",
   "metadata": {},
   "outputs": [],
   "source": [
    "client= pymongo.MongoClient('mongodb://127.0.0.1:27017')\n",
    "mydb= client['employee']\n",
    "empinfo=mydb.employeeinformation"
   ]
  },
  {
   "cell_type": "code",
   "execution_count": 3,
   "id": "b8ced2b2-b395-4a0d-8211-eb7e33d2120a",
   "metadata": {},
   "outputs": [
    {
     "data": {
      "text/plain": [
       "InsertOneResult(ObjectId('665f8d06a9a514f5a8cf09be'), acknowledged=True)"
      ]
     },
     "execution_count": 3,
     "metadata": {},
     "output_type": "execute_result"
    }
   ],
   "source": [
    "record={\n",
    "    'firstname':'Uday',\n",
    "    'lastname': 'Venkatesh',\n",
    "    'department':'Analytics',\n",
    "    'qualification':'Masters',\n",
    "    'age':23\n",
    "}\n",
    "empinfo.insert_one(record)"
   ]
  },
  {
   "cell_type": "code",
   "execution_count": 7,
   "id": "d063dcdb-429f-4963-9a6d-ddc279af49f9",
   "metadata": {},
   "outputs": [],
   "source": [
    "records= [{\n",
    "    'firstname':'Byresh',\n",
    "    'lastname': 'N',\n",
    "    'department':'Business',\n",
    "    'qualification':'Degree',\n",
    "    'age':22\n",
    "},\n",
    "{\n",
    "    'firstname':'Bhuvan',\n",
    "    'lastname': 'Gowda',\n",
    "    'department':'Computer Science',\n",
    "    'qualification':'Bachelors',\n",
    "    'age':23\n",
    "},\n",
    "{\n",
    "    'firstname':'Nandeesh',\n",
    "    'lastname': 'Mudugal',\n",
    "    'department':'Electrical',\n",
    "    'qualification':'Bachelors',\n",
    "    'age':23\n",
    "},\n",
    "{\n",
    "    'firstname':'Uday',\n",
    "    'lastname': 'chintal',\n",
    "    'department':'Electrical',\n",
    "    'qualification':'Bachelors',\n",
    "    'age':23\n",
    "}]"
   ]
  },
  {
   "cell_type": "code",
   "execution_count": 8,
   "id": "4db11f5a-237b-4a7b-ade2-432170cf0570",
   "metadata": {},
   "outputs": [
    {
     "data": {
      "text/plain": [
       "InsertManyResult([ObjectId('6660c90ea9a514f5a8cf09c0'), ObjectId('6660c90ea9a514f5a8cf09c1'), ObjectId('6660c90ea9a514f5a8cf09c2'), ObjectId('6660c90ea9a514f5a8cf09c3')], acknowledged=True)"
      ]
     },
     "execution_count": 8,
     "metadata": {},
     "output_type": "execute_result"
    }
   ],
   "source": [
    "empinfo.insert_many(records)"
   ]
  },
  {
   "cell_type": "code",
   "execution_count": 12,
   "id": "d8439c17-67da-4c57-a915-d561703d5c91",
   "metadata": {},
   "outputs": [
    {
     "data": {
      "text/plain": [
       "{'_id': ObjectId('665f8d06a9a514f5a8cf09be'),\n",
       " 'firstname': 'Uday',\n",
       " 'lastname': 'Venkatesh',\n",
       " 'department': 'Analytics',\n",
       " 'qualification': 'Masters',\n",
       " 'age': 23}"
      ]
     },
     "execution_count": 12,
     "metadata": {},
     "output_type": "execute_result"
    }
   ],
   "source": [
    "# only prints the first row of the table.\n",
    "empinfo.find_one()"
   ]
  },
  {
   "cell_type": "code",
   "execution_count": 13,
   "id": "732ace16-c4a0-4e4f-b51c-d45a5baa16fb",
   "metadata": {},
   "outputs": [
    {
     "name": "stdout",
     "output_type": "stream",
     "text": [
      "{'_id': ObjectId('665f8d06a9a514f5a8cf09be'), 'firstname': 'Uday', 'lastname': 'Venkatesh', 'department': 'Analytics', 'qualification': 'Masters', 'age': 23}\n",
      "{'_id': ObjectId('6660c90ea9a514f5a8cf09c0'), 'firstname': 'Byresh', 'lastname': 'N', 'department': 'Business', 'qualification': 'Degree', 'age': 22}\n",
      "{'_id': ObjectId('6660c90ea9a514f5a8cf09c1'), 'firstname': 'Bhuvan', 'lastname': 'Gowda', 'department': 'Computer Science', 'qualification': 'Bachelors', 'age': 23}\n",
      "{'_id': ObjectId('6660c90ea9a514f5a8cf09c2'), 'firstname': 'Nandeesh', 'lastname': 'Mudugal', 'department': 'Electrical', 'qualification': 'Bachelors', 'age': 23}\n",
      "{'_id': ObjectId('6660c90ea9a514f5a8cf09c3'), 'firstname': 'Uday', 'lastname': 'chintal', 'department': 'Electrical', 'qualification': 'Bachelors', 'age': 23}\n"
     ]
    }
   ],
   "source": [
    "#this is to print all the data \n",
    "for i in empinfo.find({}):\n",
    "    print(i)"
   ]
  },
  {
   "cell_type": "code",
   "execution_count": 15,
   "id": "a1c2b90a-03e3-41dd-9e6c-b0568762ec9b",
   "metadata": {},
   "outputs": [
    {
     "name": "stdout",
     "output_type": "stream",
     "text": [
      "{'_id': ObjectId('665f8d06a9a514f5a8cf09be'), 'firstname': 'Uday', 'lastname': 'Venkatesh', 'department': 'Analytics', 'qualification': 'Masters', 'age': 23}\n",
      "{'_id': ObjectId('6660c90ea9a514f5a8cf09c3'), 'firstname': 'Uday', 'lastname': 'chintal', 'department': 'Electrical', 'qualification': 'Bachelors', 'age': 23}\n"
     ]
    }
   ],
   "source": [
    "## querying the json document based on equality \n",
    "# in sql it is : select * from emplyinformation where firstname= 'uday';\n",
    "for record in empinfo.find({'firstname':'Uday'}):\n",
    "    print(record)"
   ]
  },
  {
   "cell_type": "code",
   "execution_count": 16,
   "id": "cd514500-e87d-4d3a-9949-c7c1511473fe",
   "metadata": {},
   "outputs": [
    {
     "name": "stdout",
     "output_type": "stream",
     "text": [
      "{'_id': ObjectId('665f8d06a9a514f5a8cf09be'), 'firstname': 'Uday', 'lastname': 'Venkatesh', 'department': 'Analytics', 'qualification': 'Masters', 'age': 23}\n",
      "{'_id': ObjectId('6660c90ea9a514f5a8cf09c1'), 'firstname': 'Bhuvan', 'lastname': 'Gowda', 'department': 'Computer Science', 'qualification': 'Bachelors', 'age': 23}\n",
      "{'_id': ObjectId('6660c90ea9a514f5a8cf09c2'), 'firstname': 'Nandeesh', 'lastname': 'Mudugal', 'department': 'Electrical', 'qualification': 'Bachelors', 'age': 23}\n",
      "{'_id': ObjectId('6660c90ea9a514f5a8cf09c3'), 'firstname': 'Uday', 'lastname': 'chintal', 'department': 'Electrical', 'qualification': 'Bachelors', 'age': 23}\n"
     ]
    }
   ],
   "source": [
    "# querying the json using query operators ($in,$lt,$gt)\n",
    "for record in empinfo.find({'qualification':{'$in':['Bachelors','Masters']}}):\n",
    "    print( record)"
   ]
  },
  {
   "cell_type": "code",
   "execution_count": 18,
   "id": "6005b15b-b9de-406d-8910-1a929a088a06",
   "metadata": {},
   "outputs": [
    {
     "name": "stdout",
     "output_type": "stream",
     "text": [
      "{'_id': ObjectId('6660c90ea9a514f5a8cf09c1'), 'firstname': 'Bhuvan', 'lastname': 'Gowda', 'department': 'Computer Science', 'qualification': 'Bachelors', 'age': 23}\n",
      "{'_id': ObjectId('6660c90ea9a514f5a8cf09c2'), 'firstname': 'Nandeesh', 'lastname': 'Mudugal', 'department': 'Electrical', 'qualification': 'Bachelors', 'age': 23}\n",
      "{'_id': ObjectId('6660c90ea9a514f5a8cf09c3'), 'firstname': 'Uday', 'lastname': 'chintal', 'department': 'Electrical', 'qualification': 'Bachelors', 'age': 23}\n"
     ]
    }
   ],
   "source": [
    "## \"and\" and query operator \n",
    "for record in empinfo.find({'qualification':'Bachelors','age':{'$lt':35}}):\n",
    "    print(record)"
   ]
  },
  {
   "cell_type": "code",
   "execution_count": 19,
   "id": "5b6e6065-41e5-4383-a44e-24ba46d2c757",
   "metadata": {},
   "outputs": [
    {
     "name": "stdout",
     "output_type": "stream",
     "text": [
      "{'_id': ObjectId('665f8d06a9a514f5a8cf09be'), 'firstname': 'Uday', 'lastname': 'Venkatesh', 'department': 'Analytics', 'qualification': 'Masters', 'age': 23}\n",
      "{'_id': ObjectId('6660c90ea9a514f5a8cf09c3'), 'firstname': 'Uday', 'lastname': 'chintal', 'department': 'Electrical', 'qualification': 'Bachelors', 'age': 23}\n"
     ]
    }
   ],
   "source": [
    "## \"and\" and query operator \n",
    "for record in empinfo.find({'$and':[{'firstname':'Uday'},{'age':23}]}):\n",
    "    print(record)"
   ]
  },
  {
   "cell_type": "code",
   "execution_count": 22,
   "id": "e5c2f6ce-5f6a-4c0f-abed-9724ebc4b8ba",
   "metadata": {},
   "outputs": [
    {
     "name": "stdout",
     "output_type": "stream",
     "text": [
      "{'_id': ObjectId('665f8d06a9a514f5a8cf09be'), 'firstname': 'Uday', 'lastname': 'Venkatesh', 'department': 'Analytics', 'qualification': 'Masters', 'age': 23}\n",
      "{'_id': ObjectId('6660c90ea9a514f5a8cf09c1'), 'firstname': 'Bhuvan', 'lastname': 'Gowda', 'department': 'Computer Science', 'qualification': 'Bachelors', 'age': 23}\n",
      "{'_id': ObjectId('6660c90ea9a514f5a8cf09c2'), 'firstname': 'Nandeesh', 'lastname': 'Mudugal', 'department': 'Electrical', 'qualification': 'Bachelors', 'age': 23}\n",
      "{'_id': ObjectId('6660c90ea9a514f5a8cf09c3'), 'firstname': 'Uday', 'lastname': 'chintal', 'department': 'Electrical', 'qualification': 'Bachelors', 'age': 23}\n"
     ]
    }
   ],
   "source": [
    "## \"or\" and query operator \n",
    "\n",
    "for record in empinfo.find({'$or':[{'age':23},{'qualification':'Masters'}]}):\n",
    "    print(record)"
   ]
  },
  {
   "cell_type": "markdown",
   "id": "b6ba617a-702d-4784-b8f8-9f34cdd8bec0",
   "metadata": {},
   "source": [
    "## created new collection "
   ]
  },
  {
   "cell_type": "code",
   "execution_count": 23,
   "id": "9aa5caf3-9b07-47f1-930a-aae9c7f10e4e",
   "metadata": {},
   "outputs": [],
   "source": [
    "inventory=mydb.inventory"
   ]
  },
  {
   "cell_type": "code",
   "execution_count": 24,
   "id": "cd2ee1c7-236c-4510-9d9e-c2d61bf30a78",
   "metadata": {},
   "outputs": [],
   "source": [
    "inventory.insert_many( [\n",
    "   { 'item': \"journal\", 'qty': 25, 'size': { 'h': 14, 'w': 21,'uom': \"cm\" }, 'status': \"A\" },\n",
    "   { 'item': \"notebook\", 'qty': 50,'size': { 'h': 8.5, 'w': 11,'uom': \"in\" },'status': \"A\" },\n",
    "   { 'item': \"paper\", 'qty': 100, 'size': { 'h': 8.5, 'w': 11,'uom': \"in\" },'status': \"D\" },\n",
    "   { 'item': \"planner\", 'qty': 75, 'size': { 'h': 22.85,'w': 30,'uom': \"cm\" },'status': \"D\" },\n",
    "   { 'item': \"postcard\", 'qty': 45, 'size': { 'h': 10, 'w': 15.25,'uom': \"cm\" },'status': \"A\" }\n",
    "]);\n",
    "    "
   ]
  },
  {
   "cell_type": "code",
   "execution_count": 25,
   "id": "361d0c61-16f4-4ee4-8671-389e57b88787",
   "metadata": {},
   "outputs": [
    {
     "name": "stdout",
     "output_type": "stream",
     "text": [
      "{'_id': ObjectId('66620a74a9a514f5a8cf09c4'), 'item': 'journal', 'qty': 25, 'size': {'h': 14, 'w': 21, 'uom': 'cm'}, 'status': 'A'}\n"
     ]
    }
   ],
   "source": [
    "for records in inventory.find({'size': { 'h': 14, 'w': 21,'uom': \"cm\" }}):\n",
    "    print(records)"
   ]
  },
  {
   "cell_type": "code",
   "execution_count": 26,
   "id": "75ec530b-84be-4947-b745-44cb703ee843",
   "metadata": {},
   "outputs": [
    {
     "data": {
      "text/plain": [
       "InsertManyResult([ObjectId('66622178a9a514f5a8cf09c9'), ObjectId('66622178a9a514f5a8cf09ca'), ObjectId('66622178a9a514f5a8cf09cb'), ObjectId('66622178a9a514f5a8cf09cc'), ObjectId('66622178a9a514f5a8cf09cd'), ObjectId('66622178a9a514f5a8cf09ce'), ObjectId('66622178a9a514f5a8cf09cf'), ObjectId('66622178a9a514f5a8cf09d0'), ObjectId('66622178a9a514f5a8cf09d1'), ObjectId('66622178a9a514f5a8cf09d2')], acknowledged=True)"
      ]
     },
     "execution_count": 26,
     "metadata": {},
     "output_type": "execute_result"
    }
   ],
   "source": [
    "inventory.insert_many([\n",
    "    {\"item\": \"canvas\",\n",
    "     \"qty\": 100,\n",
    "     \"size\": {\"h\": 28, \"w\": 35.5, \"uom\": \"cm\"},\n",
    "     \"status\": \"A\"},\n",
    "    {\"item\": \"journal\",\n",
    "     \"qty\": 25,\n",
    "     \"size\": {\"h\": 14, \"w\": 21, \"uom\": \"cm\"},\n",
    "     \"status\": \"A\"},\n",
    "    {\"item\": \"mat\",\n",
    "     \"qty\": 85,\n",
    "     \"size\": {\"h\": 27.9, \"w\": 35.5, \"uom\": \"cm\"},\n",
    "     \"status\": \"A\"},\n",
    "    {\"item\": \"mousepad\",\n",
    "     \"qty\": 25,\n",
    "     \"size\": {\"h\": 19, \"w\": 22.85, \"uom\": \"cm\"},\n",
    "     \"status\": \"P\"},\n",
    "    {\"item\": \"notebook\",\n",
    "     \"qty\": 50,\n",
    "     \"size\": {\"h\": 8.5, \"w\": 11, \"uom\": \"in\"},\n",
    "     \"status\": \"P\"},\n",
    "    {\"item\": \"paper\",\n",
    "     \"qty\": 100,\n",
    "     \"size\": {\"h\": 8.5, \"w\": 11, \"uom\": \"in\"},\n",
    "     \"status\": \"D\"},\n",
    "    {\"item\": \"planner\",\n",
    "     \"qty\": 75,\n",
    "     \"size\": {\"h\": 22.85, \"w\": 30, \"uom\": \"cm\"},\n",
    "     \"status\": \"D\"},\n",
    "    {\"item\": \"postcard\",\n",
    "     \"qty\": 45,\n",
    "     \"size\": {\"h\": 10, \"w\": 15.25, \"uom\": \"cm\"},\n",
    "     \"status\": \"A\"},\n",
    "    {\"item\": \"sketchbook\",\n",
    "     \"qty\": 80,\n",
    "     \"size\": {\"h\": 14, \"w\": 21, \"uom\": \"cm\"},\n",
    "     \"status\": \"A\"},\n",
    "    {\"item\": \"sketch pad\",\n",
    "     \"qty\": 95,\n",
    "     \"size\": {\"h\": 22.85, \"w\": 30.5, \"uom\": \"cm\"},\n",
    "     \"status\": \"A\"}])"
   ]
  },
  {
   "cell_type": "code",
   "execution_count": 27,
   "id": "90e0daf3-c141-4361-9055-76d2a39f08ce",
   "metadata": {},
   "outputs": [
    {
     "data": {
      "text/plain": [
       "UpdateResult({'n': 1, 'nModified': 1, 'ok': 1.0, 'updatedExisting': True}, acknowledged=True)"
      ]
     },
     "execution_count": 27,
     "metadata": {},
     "output_type": "execute_result"
    }
   ],
   "source": [
    "inventory.update_one(\n",
    "{\"item\":\"sketch pad\"},\n",
    "{\"$set\":{\"size.uom\":\"m\",\"status\":\"P\"},\n",
    "\"$currentDate\":{\"lastModified\":True}}\n",
    ")"
   ]
  },
  {
   "cell_type": "code",
   "execution_count": 28,
   "id": "09fa6a49-1f26-4653-aafc-242d72d7ac94",
   "metadata": {},
   "outputs": [
    {
     "data": {
      "text/plain": [
       "UpdateResult({'n': 5, 'nModified': 5, 'ok': 1.0, 'updatedExisting': True}, acknowledged=True)"
      ]
     },
     "execution_count": 28,
     "metadata": {},
     "output_type": "execute_result"
    }
   ],
   "source": [
    "inventory.update_many(\n",
    "    {\"qty\": {\"$lt\": 50}},\n",
    "    {\"$set\": {\"size.uom\": \"in\", \"status\": \"P\"},\n",
    "     \"$currentDate\": {\"lastModified\": True}})"
   ]
  },
  {
   "cell_type": "code",
   "execution_count": 29,
   "id": "da67b018-6ff2-45a3-960c-5b503b819a6b",
   "metadata": {},
   "outputs": [
    {
     "data": {
      "text/plain": [
       "UpdateResult({'n': 1, 'nModified': 1, 'ok': 1.0, 'updatedExisting': True}, acknowledged=True)"
      ]
     },
     "execution_count": 29,
     "metadata": {},
     "output_type": "execute_result"
    }
   ],
   "source": [
    "inventory.replace_one(\n",
    "    {\"item\": \"paper\"},\n",
    "    {\"item\": \"paper\",\n",
    "     \"instock\": [\n",
    "         {\"warehouse\": \"A\", \"qty\": 60},\n",
    "         {\"warehouse\": \"B\", \"qty\": 40}]})"
   ]
  },
  {
   "cell_type": "markdown",
   "id": "8839fec2-a281-431d-ae9f-1368edd30030",
   "metadata": {},
   "source": [
    "## Mongodb Aggregate And Group\n"
   ]
  },
  {
   "cell_type": "code",
   "execution_count": null,
   "id": "e05ca3eb-f90c-4c22-aa8d-ffdb1dcedaac",
   "metadata": {},
   "outputs": [],
   "source": []
  },
  {
   "cell_type": "code",
   "execution_count": 34,
   "id": "97aa7d72-1dc1-4d64-8871-8dd56a0835e2",
   "metadata": {},
   "outputs": [
    {
     "data": {
      "text/plain": [
       "InsertManyResult([ObjectId('6667658ea9a514f5a8cf09d3'), ObjectId('6667658ea9a514f5a8cf09d4'), ObjectId('6667658ea9a514f5a8cf09d5'), ObjectId('6667658ea9a514f5a8cf09d6'), ObjectId('6667658ea9a514f5a8cf09d7'), ObjectId('6667658ea9a514f5a8cf09d8')], acknowledged=True)"
      ]
     },
     "execution_count": 34,
     "metadata": {},
     "output_type": "execute_result"
    }
   ],
   "source": [
    "mydatabase= client['Students']\n",
    "collection=mydatabase['studentscores']\n",
    "data = [ \n",
    "    {\"user\":\"Krish\", \"subject\":\"Database\", \"score\":80}, \n",
    "    {\"user\":\"Amit\",  \"subject\":\"JavaScript\", \"score\":90}, \n",
    "    {\"user\":\"Amit\",  \"title\":\"Database\", \"score\":85}, \n",
    "    {\"user\":\"Krish\",  \"title\":\"JavaScript\", \"score\":75}, \n",
    "    {\"user\":\"Amit\",  \"title\":\"Data Science\", \"score\":60},\n",
    "    {\"user\":\"Krish\",  \"title\":\"Data Science\", \"score\":95}] \n",
    "  \n",
    "collection.insert_many(data)"
   ]
  },
  {
   "cell_type": "code",
   "execution_count": 36,
   "id": "82790ee7-5b49-4efb-8f71-9a871299b867",
   "metadata": {},
   "outputs": [
    {
     "name": "stdout",
     "output_type": "stream",
     "text": [
      "{'_id': 'Krish', 'Total Subject': 3}\n",
      "{'_id': 'Amit', 'Total Subject': 3}\n"
     ]
    }
   ],
   "source": [
    "agg_result= collection.aggregate( \n",
    "    [{ \n",
    "    \"$group\" :  \n",
    "        {\"_id\" : \"$user\",  \n",
    "         \"Total Subject\" : {\"$sum\" : 1} \n",
    "         }} \n",
    "    ]) \n",
    "for i in agg_result:\n",
    "    print(i)"
   ]
  },
  {
   "cell_type": "code",
   "execution_count": 43,
   "id": "ad9f99be-01db-44a0-89a1-ce5f4c54f088",
   "metadata": {},
   "outputs": [
    {
     "name": "stdout",
     "output_type": "stream",
     "text": [
      "{'_id': 'Amit', 'Total Marks': 235}\n",
      "{'_id': 'Krish', 'Total Marks': 250}\n"
     ]
    }
   ],
   "source": [
    "agg_result= collection.aggregate( \n",
    "    [{ \n",
    "    \"$group\" :  \n",
    "        {\"_id\" : \"$user\",  \n",
    "         \"Total Marks\" : {\"$sum\" :\"$score\"} \n",
    "         }} \n",
    "    ]) \n",
    "for i in agg_result: \n",
    "    print(i)"
   ]
  },
  {
   "cell_type": "code",
   "execution_count": 44,
   "id": "cbf6c798-1aa0-42ef-b10b-5e02e619f6c2",
   "metadata": {},
   "outputs": [
    {
     "name": "stdout",
     "output_type": "stream",
     "text": [
      "{'_id': 'Krish', 'StudentScoreAverage': 83.33333333333333}\n",
      "{'_id': 'Amit', 'StudentScoreAverage': 78.33333333333333}\n"
     ]
    }
   ],
   "source": [
    "agg_result=collection.aggregate([\n",
    "   {\n",
    "      \"$group\": {\n",
    "         \"_id\": '$user',\n",
    "         \"StudentScoreAverage\": {\n",
    "            \"$avg\": \"$score\"\n",
    "         }\n",
    "      }\n",
    "   }\n",
    "])\n",
    "for i in agg_result: \n",
    "    print(i)"
   ]
  },
  {
   "cell_type": "code",
   "execution_count": null,
   "id": "ee817353-9fa2-4f92-a861-d32a9d10a157",
   "metadata": {},
   "outputs": [],
   "source": []
  }
 ],
 "metadata": {
  "kernelspec": {
   "display_name": "Python 3 (ipykernel)",
   "language": "python",
   "name": "python3"
  },
  "language_info": {
   "codemirror_mode": {
    "name": "ipython",
    "version": 3
   },
   "file_extension": ".py",
   "mimetype": "text/x-python",
   "name": "python",
   "nbconvert_exporter": "python",
   "pygments_lexer": "ipython3",
   "version": "3.11.8"
  }
 },
 "nbformat": 4,
 "nbformat_minor": 5
}
